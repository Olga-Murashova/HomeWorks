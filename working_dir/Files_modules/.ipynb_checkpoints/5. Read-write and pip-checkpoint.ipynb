{
 "cells": [
  {
   "cell_type": "markdown",
   "metadata": {},
   "source": [
    "# Домашнее задание\n",
    "1. Переведите содержимое файла purchase_log.txt в словарь purchases вида:\n",
    "```python\n",
    "{'1840e0b9d4': 'Продукты', ...}\n",
    "```\n",
    "\n",
    "2. Для каждого user_id в файле visit_log.csv добавьте третий столбец с категорией покупки (если покупка была).\n",
    "\n",
    "3. Запишите в файл funnel.csv визиты из файла visit_log.csv, в которых были покупки с указанием категории.\n",
    "\n",
    "Учтите условия на данные:\n",
    "- содержимое purchase_log.txt помещается в оперативную память компьютера\n",
    "- содержимое visit_log.csv - нет; используйте только построчную обработку этого файла"
   ]
  },
  {
   "cell_type": "code",
   "execution_count": 32,
   "metadata": {},
   "outputs": [],
   "source": [
    "#преобразуем строки в словари\n",
    "import json\n",
    "\n",
    "with open('purchase_log.txt', 'r') as purc:\n",
    "    list_line = []\n",
    "    next(purc) #пропускаем строку с заголовком\n",
    "    content = purc.readlines() #читаем файл построчно\n",
    "   \n",
    "    for line in content:\n",
    "        line = line.strip() \n",
    "        dict_n = json.loads(line)\n",
    "        list_line.append(dict_n) #формируем словарь\n",
    "# list_line[:10]"
   ]
  },
  {
   "cell_type": "code",
   "execution_count": 38,
   "metadata": {},
   "outputs": [],
   "source": [
    "# формируем словарь\n",
    "purchases = {item.get('user_id'): item.get('category') for item in list_line}\n",
    "# purchases"
   ]
  },
  {
   "cell_type": "code",
   "execution_count": 39,
   "metadata": {},
   "outputs": [],
   "source": [
    "with open('visit_log.csv', 'r') as visit:\n",
    "    with open('funnel.csv', 'w') as funn:\n",
    "        next(visit) #пропускаем строку с заголовком\n",
    "        for line_n in visit:\n",
    "            item = line_n.strip().split(',') #чистим файл от мусора\n",
    "#             print('item', item)\n",
    "            user_id = item[0] #выделяем user_id из преподготовленного файла\n",
    "#             print('user_id: ', user_id)\n",
    "            category = purchases.get(user_id) #ищем по ранее найденному user_id категорию в ранее сформированном списке\n",
    "#             print('category:', category)\n",
    "            if category is not None: #если категория не пуста - добавляем в файл\n",
    "                item.append(category)\n",
    "                result = ','.join(item) + '\\n'\n",
    "                funn.write(result)"
   ]
  },
  {
   "cell_type": "code",
   "execution_count": 41,
   "metadata": {},
   "outputs": [
    {
     "data": {
      "text/plain": [
       "['1840e0b9d4,other,Продукты\\n',\n",
       " '4e4f90fcfb,context,Электроника\\n',\n",
       " 'afea8d72fc,other,Электроника\\n',\n",
       " '2824221f38,email,Продукты\\n',\n",
       " '373a6055fe,other,Бытовая техника\\n']"
      ]
     },
     "execution_count": 41,
     "metadata": {},
     "output_type": "execute_result"
    }
   ],
   "source": [
    "with open('funnel.csv', 'r') as f:\n",
    "    content = f.readlines()\n",
    "    content[:5]"
   ]
  },
  {
   "cell_type": "code",
   "execution_count": null,
   "metadata": {},
   "outputs": [],
   "source": []
  }
 ],
 "metadata": {
  "kernelspec": {
   "display_name": "Python 3",
   "language": "python",
   "name": "python3"
  },
  "language_info": {
   "codemirror_mode": {
    "name": "ipython",
    "version": 3
   },
   "file_extension": ".py",
   "mimetype": "text/x-python",
   "name": "python",
   "nbconvert_exporter": "python",
   "pygments_lexer": "ipython3",
   "version": "3.7.4"
  }
 },
 "nbformat": 4,
 "nbformat_minor": 2
}
