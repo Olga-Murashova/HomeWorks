{
 "cells": [
  {
   "cell_type": "markdown",
   "metadata": {},
   "source": [
    "Вы работаете секретарем и вам постоянно приходят различные документы. Вы должны быть очень внимательны, чтобы не потерять ни один документ. Каталог документов хранится в следующем виде:"
   ]
  },
  {
   "cell_type": "code",
   "execution_count": 197,
   "metadata": {},
   "outputs": [],
   "source": [
    "documents = [\n",
    "    {'type': 'passport', 'number': '2207 876234', 'name': 'Василий Гупкин'},\n",
    "    {'type': 'invoice', 'number': '11-2', 'name': 'Геннадий Покемонов'},\n",
    "    {'type': 'insurance', 'number': '10006', 'name': 'Аристарх Павлов'}\n",
    "]"
   ]
  },
  {
   "cell_type": "markdown",
   "metadata": {},
   "source": [
    "Перечень полок, на которых находятся документы хранится в следующем виде:"
   ]
  },
  {
   "cell_type": "code",
   "execution_count": 198,
   "metadata": {},
   "outputs": [],
   "source": [
    "directories = {\n",
    "    '1': ['2207 876234', '11-2'],\n",
    "    '2': ['10006'],\n",
    "    '3': []\n",
    "}"
   ]
  },
  {
   "cell_type": "markdown",
   "metadata": {},
   "source": [
    "Необходимо реализовать пользовательские команды (внимание! это не название функций, которые должны быть выразительными, а команды, которые вводит пользователь, чтобы получить необходимый результат):\n",
    "  \n",
    "- p – people – команда, которая спросит номер документа и выведет имя человека, которому он принадлежит;  \n",
    "- s – shelf – команда, которая спросит номер документа и выведет номер полки, на которой он находится  \n",
    "Правильно обработайте ситуацию, когда пользователь будет вводить несуществующий документ.\n",
    "- l – list – команда, которая выведет список всех документов в формате   \n",
    "**passport \"2207 876234\" \"Василий Гупкин\"**  \n",
    "- as – add shelf – команда, которая спросит номер новой полки и добавит ее в перечень\n",
    "- d – delete – команда, которая спросит номер документа и удалит его из каталога и из перечня полок. Предусмотрите сценарий, когда пользователь вводит несуществующий документ;  \n",
    "- m – move – команда, которая спросит номер документа и целевую полку и переместит его с текущей полки на целевую. Корректно обработайте кейсы, когда пользователь пытается переместить несуществующий документ или переместить документ на несуществующую полку;  \n",
    "- a – add – команда, которая добавит новый документ в каталог и в перечень полок, спросив его номер, тип, имя владельца и номер полки, на котором он будет храниться."
   ]
  },
  {
   "cell_type": "markdown",
   "metadata": {},
   "source": [
    "### Решение по частям:"
   ]
  },
  {
   "cell_type": "code",
   "execution_count": 85,
   "metadata": {},
   "outputs": [
    {
     "name": "stdout",
     "output_type": "stream",
     "text": [
      "Введите номер документа 123\n",
      "Такого документа нет\n"
     ]
    }
   ],
   "source": [
    "# имя человека по номеру его документа\n",
    "user_input_num = input('Введите номер документа ')\n",
    "exist_check_doc = False\n",
    "for docs in documents:\n",
    "    for k, v in docs.items():\n",
    "        if v == user_input_num:\n",
    "            exist_check_doc = True\n",
    "            print(docs['name'])\n",
    "if not exist_check_doc: print('Такого документа нет')"
   ]
  },
  {
   "cell_type": "code",
   "execution_count": 116,
   "metadata": {},
   "outputs": [
    {
     "name": "stdout",
     "output_type": "stream",
     "text": [
      "Введите номер документа 123\n",
      "Такой документ не существует\n"
     ]
    }
   ],
   "source": [
    "#номер полки по номеру документа\n",
    "user_input_num = input('Введите номер документа ')\n",
    "exist_check_doc = False\n",
    "for shelf, doc_num in directories.items():\n",
    "    for num in doc_num:\n",
    "        if num == user_input_num:\n",
    "            exist_check_doc = True\n",
    "            print(shelf)\n",
    "if not exist_check_doc: print('Такой документ не существует')"
   ]
  },
  {
   "cell_type": "code",
   "execution_count": 13,
   "metadata": {},
   "outputs": [
    {
     "name": "stdout",
     "output_type": "stream",
     "text": [
      "Введите имя полки 5\n",
      "{'1': ['2207 876234', '11-2'], '2': ['10006'], '3': [], '5': []}\n"
     ]
    }
   ],
   "source": [
    "#добавление новой полки\n",
    "user_input_shelf = input('Введите имя полки ')\n",
    "directories[user_input_shelf]=[]\n",
    "print(directories)"
   ]
  },
  {
   "cell_type": "code",
   "execution_count": 7,
   "metadata": {},
   "outputs": [
    {
     "name": "stdout",
     "output_type": "stream",
     "text": [
      "Введите номер документа 11-2\n",
      "[{'type': 'passport', 'number': '2207 876234', 'name': 'Василий Гупкин'}, {'type': 'insurance', 'number': '10006', 'name': 'Аристарх Павлов'}]\n"
     ]
    }
   ],
   "source": [
    "#удаление документа из каталога\n",
    "user_input_num = input('Введите номер документа ')\n",
    "exist_check_doc = False\n",
    "for docs_2 in documents:\n",
    "    for k, v in docs_2.items():\n",
    "        if v == user_input_num:\n",
    "            exist_check_doc = True\n",
    "            #print(documents_2.index(docs_2))\n",
    "            documents.remove(docs_2)\n",
    "            print(documents)\n",
    "if not exist_check_doc: print('Такого документа нет')"
   ]
  },
  {
   "cell_type": "code",
   "execution_count": 10,
   "metadata": {},
   "outputs": [
    {
     "name": "stdout",
     "output_type": "stream",
     "text": [
      "Введите номер документа 11-2\n",
      "{'1': ['2207 876234'], '2': ['10006'], '3': []}\n"
     ]
    }
   ],
   "source": [
    "# удаление с полки\n",
    "user_input_num = input('Введите номер документа ')\n",
    "exist_check_doc = False\n",
    "for shelf, doc_num in directories.items():\n",
    "    for num in doc_num:\n",
    "        if num == user_input_num:\n",
    "            exist_check_doc = True\n",
    "            doc_num.remove(num)\n",
    "            print(directories)\n",
    "if not exist_check_doc: print('Такой документ не существует')"
   ]
  },
  {
   "cell_type": "code",
   "execution_count": 52,
   "metadata": {},
   "outputs": [
    {
     "name": "stdout",
     "output_type": "stream",
     "text": [
      "Введите номер документа 123\n",
      "Введите номер новой полки 3\n",
      "Такой документ не существует\n",
      "{'1': ['2207 876234', '11-2'], '2': ['10006'], '3': []}\n"
     ]
    }
   ],
   "source": [
    "#перемещение документа между полками\n",
    "user_input_num = input('Введите номер документа ')\n",
    "user_input_shelf = input('Введите номер новой полки ')\n",
    "exist_check_doc = False\n",
    "\n",
    "if user_input_shelf not in directories:\n",
    "    print('Такой полки не существует') \n",
    "else:\n",
    "    for shelf, doc_num in directories.items():\n",
    "        for num in doc_num:\n",
    "            if num == user_input_num:\n",
    "                exist_check_doc = True\n",
    "                doc_num.remove(num) #вынимаем документ с полки            \n",
    "                directories[user_input_shelf].append(user_input_num) #помещаем документ на новую полку   \n",
    "    if not exist_check_doc: \n",
    "        print('Такой документ не существует')\n",
    "print(directories)"
   ]
  },
  {
   "cell_type": "code",
   "execution_count": null,
   "metadata": {},
   "outputs": [],
   "source": [
    "# добавление нового документа в каталог и на полку\n",
    "user_input_num = input('Введите номер документа ')\n",
    "user_input_type = input('Введите тип документа ')\n",
    "user_input_name = input('Введите имя владельца ')\n",
    "user_input_shelf = input('Введите номер полки ')\n",
    "\n",
    "new_doc = {}\n",
    "new_doc.update({'type':user_input_type, 'number':user_input_num, 'name':user_input_name})\n",
    "documents.append(new_doc)  #доавляем документ в каталог\n",
    "print(documents)\n",
    "\n",
    "directories[user_input_shelf].append(user_input_num) #помещаем новый документ на полку"
   ]
  },
  {
   "cell_type": "markdown",
   "metadata": {},
   "source": [
    "### Функции и основное решение"
   ]
  },
  {
   "cell_type": "code",
   "execution_count": 199,
   "metadata": {},
   "outputs": [],
   "source": [
    "#функция вывода имени по номеру документа\n",
    "def persona_identification(user_input_num):\n",
    "    result = None\n",
    "    exist_check_doc = False\n",
    "    for docs in documents:\n",
    "        for k, v in docs.items():\n",
    "            if v == user_input_num:\n",
    "                exist_check_doc = True\n",
    "                result = docs['name']\n",
    "    if not exist_check_doc: \n",
    "        result = 'Такого документа нет'\n",
    "    return result"
   ]
  },
  {
   "cell_type": "code",
   "execution_count": 200,
   "metadata": {},
   "outputs": [],
   "source": [
    "#функция вывода номера полки по номеру документа\n",
    "def shelf_identification(user_input_num):\n",
    "    result = None\n",
    "    exist_check_doc = False\n",
    "    for shelf, doc_num in directories.items():\n",
    "        for num in doc_num:\n",
    "            if num == user_input_num:\n",
    "                exist_check_doc = True\n",
    "                result = shelf\n",
    "    if not exist_check_doc: \n",
    "        result = 'Такого документа нет'\n",
    "    return result"
   ]
  },
  {
   "cell_type": "code",
   "execution_count": 201,
   "metadata": {},
   "outputs": [],
   "source": [
    "#функция вывода полного список документов\n",
    "def print_all():\n",
    "    for docs in documents:\n",
    "        print('{type} \"{number}\" \"{name}\"'.format(**docs))"
   ]
  },
  {
   "cell_type": "code",
   "execution_count": 202,
   "metadata": {},
   "outputs": [],
   "source": [
    "#функция добавления новой полки\n",
    "def add_shelf(user_input_shelf):\n",
    "    if user_input_shelf not in directories:\n",
    "        directories[user_input_shelf]=[]\n",
    "    else:\n",
    "        print('Такая полка уже есть')"
   ]
  },
  {
   "cell_type": "code",
   "execution_count": 203,
   "metadata": {},
   "outputs": [],
   "source": [
    "#функция удаления документа из каталога и из папок\n",
    "def del_document(user_input_num):\n",
    "    for docs_2 in documents:\n",
    "        for k, v in docs_2.items():\n",
    "            if v == user_input_num:\n",
    "                documents.remove(docs_2) \n",
    "    for shelf, doc_num in directories.items():\n",
    "        for num in doc_num:\n",
    "            if num == user_input_num:\n",
    "                doc_num.remove(num)"
   ]
  },
  {
   "cell_type": "code",
   "execution_count": 204,
   "metadata": {},
   "outputs": [],
   "source": [
    "#функция перемещения между полками\n",
    "def moved_docs(user_input_num, user_input_shelf):\n",
    "    exist_check_doc = False\n",
    "    if user_input_shelf not in directories:\n",
    "        print('Такой полки не существует') \n",
    "    else:\n",
    "        for shelf, doc_num in directories.items():\n",
    "            for num in doc_num:\n",
    "                if num == user_input_num:\n",
    "                    exist_check_doc = True\n",
    "                    doc_num.remove(num) #вынимаем документ с полки\n",
    "                    directories[user_input_shelf].append(user_input_num) #помещаем документ на новую полку\n",
    "        if not exist_check_doc: print('Такой документ не существует')\n",
    "#     return exist_check_doc"
   ]
  },
  {
   "cell_type": "code",
   "execution_count": 205,
   "metadata": {},
   "outputs": [],
   "source": [
    "#функция добавления нового документа в каталог и на полку\n",
    "def add_new_docs(user_input_num, user_input_type, user_input_name, user_input_shelf):\n",
    "    if user_input_shelf not in directories:\n",
    "        directories[user_input_shelf]=[]\n",
    "    new_doc = {}\n",
    "    new_doc.update({'type':user_input_type, 'number':user_input_num, 'name':user_input_name})\n",
    "    documents.append(new_doc)  #доавляем документ в каталог\n",
    "    directories[user_input_shelf].append(user_input_num) #помещаем новый документ на полку"
   ]
  },
  {
   "cell_type": "code",
   "execution_count": 207,
   "metadata": {},
   "outputs": [
    {
     "name": "stdout",
     "output_type": "stream",
     "text": [
      "Введите команду q\n",
      "Bye!\n"
     ]
    }
   ],
   "source": [
    "def main():\n",
    "    while True:\n",
    "        user_input_command = input('Введите команду ')\n",
    "        if user_input_command == 'p':\n",
    "            user_input_num = input('Введите номер документа ')\n",
    "            name = persona_identification(user_input_num)\n",
    "            print(name)\n",
    "#             if not name: print('Такого документа нет')\n",
    "        elif user_input_command == 's':\n",
    "            user_input_num = input('Введите номер документа ')\n",
    "            shelf = shelf_identification(user_input_num)\n",
    "            print(shelf)\n",
    "            if not shelf: print('Такого документа нет')\n",
    "        elif user_input_command == 'l':\n",
    "            print_all()\n",
    "        elif user_input_command =='as':\n",
    "            user_input_shelf = input('Введите номер новой полки ')\n",
    "            new_shelf = add_shelf(user_input_shelf)\n",
    "            print(directories)\n",
    "        elif user_input_command == 'd':\n",
    "            user_input_num = input('Введите номер документа ')\n",
    "            del_docs = del_document(user_input_num)\n",
    "            print(documents)\n",
    "            print(directories)\n",
    "            if not shelf: print('Такого документа нет')\n",
    "        elif user_input_command == 'm':\n",
    "            user_input_num = input('Введите номер документа ')\n",
    "            user_input_shelf = input('Введите номер новой полки ')\n",
    "            new_place = moved_docs(user_input_num, user_input_shelf)\n",
    "#             if not new_place: print('Такого документа нет')\n",
    "            print(directories)\n",
    "        elif user_input_command == 'a':\n",
    "            user_input_num = input('Введите номер документа ')\n",
    "            user_input_type = input('Введите тип документа ')\n",
    "            user_input_name = input('Введите имя владельца ')\n",
    "            user_input_shelf = input('Введите номер полки ')\n",
    "            new_docs = add_new_docs(user_input_num, user_input_type, user_input_name, user_input_shelf)\n",
    "            print(documents)\n",
    "            print(directories)\n",
    "        elif user_input_command == 'q':\n",
    "            print('Bye!')\n",
    "            break\n",
    "\n",
    "main()"
   ]
  },
  {
   "cell_type": "code",
   "execution_count": null,
   "metadata": {},
   "outputs": [],
   "source": []
  }
 ],
 "metadata": {
  "kernelspec": {
   "display_name": "Python 3",
   "language": "python",
   "name": "python3"
  },
  "language_info": {
   "codemirror_mode": {
    "name": "ipython",
    "version": 3
   },
   "file_extension": ".py",
   "mimetype": "text/x-python",
   "name": "python",
   "nbconvert_exporter": "python",
   "pygments_lexer": "ipython3",
   "version": "3.7.4"
  }
 },
 "nbformat": 4,
 "nbformat_minor": 2
}
