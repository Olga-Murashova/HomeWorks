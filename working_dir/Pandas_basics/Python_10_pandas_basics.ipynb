{
 "cells": [
  {
   "cell_type": "markdown",
   "metadata": {},
   "source": [
    "## Домашнее задание"
   ]
  },
  {
   "cell_type": "code",
   "execution_count": 1,
   "metadata": {},
   "outputs": [],
   "source": [
    "import pandas as pd"
   ]
  },
  {
   "cell_type": "markdown",
   "metadata": {},
   "source": [
    "**Задание 1**  \n",
    "Скачайте с сайта https://grouplens.org/datasets/movielens/ датасет любого размера. Определите какому фильму было выставлено больше всего оценок 5.0."
   ]
  },
  {
   "cell_type": "code",
   "execution_count": 29,
   "metadata": {},
   "outputs": [
    {
     "data": {
      "text/html": [
       "<div>\n",
       "<style scoped>\n",
       "    .dataframe tbody tr th:only-of-type {\n",
       "        vertical-align: middle;\n",
       "    }\n",
       "\n",
       "    .dataframe tbody tr th {\n",
       "        vertical-align: top;\n",
       "    }\n",
       "\n",
       "    .dataframe thead th {\n",
       "        text-align: right;\n",
       "    }\n",
       "</style>\n",
       "<table border=\"1\" class=\"dataframe\">\n",
       "  <thead>\n",
       "    <tr style=\"text-align: right;\">\n",
       "      <th></th>\n",
       "      <th>movieId</th>\n",
       "      <th>title</th>\n",
       "      <th>genres</th>\n",
       "    </tr>\n",
       "  </thead>\n",
       "  <tbody>\n",
       "    <tr>\n",
       "      <td>277</td>\n",
       "      <td>318</td>\n",
       "      <td>Shawshank Redemption, The (1994)</td>\n",
       "      <td>Crime|Drama</td>\n",
       "    </tr>\n",
       "  </tbody>\n",
       "</table>\n",
       "</div>"
      ],
      "text/plain": [
       "     movieId                             title       genres\n",
       "277      318  Shawshank Redemption, The (1994)  Crime|Drama"
      ]
     },
     "execution_count": 29,
     "metadata": {},
     "output_type": "execute_result"
    }
   ],
   "source": [
    "movies_data = pd.read_csv('ml-latest-small/movies.csv')\n",
    "rating_data = pd.read_csv('ml-latest-small/ratings.csv')\n",
    "max_rated_id = rating_data.query('rating == 5.0')['movieId'].value_counts().idxmax()\n",
    "movies_data.query(f'movieId == {max_rated_id}')"
   ]
  },
  {
   "cell_type": "markdown",
   "metadata": {},
   "source": [
    "**Задание 2**  \n",
    "По данным файла power.csv посчитайте суммарное потребление стран Прибалтики (Латвия, Литва и Эстония) категорий 4, 12 и 21 за период с 2005 по 2010 года. Не учитывайте в расчетах отрицательные значения quantity."
   ]
  },
  {
   "cell_type": "code",
   "execution_count": 30,
   "metadata": {},
   "outputs": [
    {
     "data": {
      "text/plain": [
       "240580.0"
      ]
     },
     "execution_count": 30,
     "metadata": {},
     "output_type": "execute_result"
    }
   ],
   "source": [
    "power = pd.read_csv('power.csv')\n",
    "power.loc[(power['category'].isin([4, 12, 21])) & (power['country'].isin(['Latvia', 'Estonia', 'Lithuania'])) & (power['year'].between(2005, 2010)) & (power['quantity'] > 0)]['quantity'].sum()"
   ]
  },
  {
   "cell_type": "markdown",
   "metadata": {},
   "source": [
    "**Задание 3**  \n",
    "Выберите страницу любого сайта с табличными данными. Импортируйте таблицы в pandas dataframe.\n",
    "Примеры страниц (необязательно брать именно эти):  \n",
    "https://fortrader.org/quotes  \n",
    "https://www.finanz.ru/valyuty/v-realnom-vremeni"
   ]
  },
  {
   "cell_type": "code",
   "execution_count": 31,
   "metadata": {},
   "outputs": [
    {
     "data": {
      "text/plain": [
       "[    Unnamed: 0              Рубль  Предложение  Спрос  Предыдущее закрытие  \\\n",
       " 0          NaN            GBP/RUB       929315      -               928392   \n",
       " 1          NaN            EUR/RUB       847490      -               852470   \n",
       " 2          NaN            USD/RUB       773293      -               784560   \n",
       " 3          NaN            JPY/RUB        07031      -                07073   \n",
       " 4          NaN            CNY/RUB       109348      -               110346   \n",
       " 5          NaN            CHF/RUB       797428      -               803771   \n",
       " 6          NaN               Евро  Предложение  Спрос  Предыдущее закрытие   \n",
       " 7          NaN            EUR/USD        10959      -                10880   \n",
       " 8          NaN            EUR/GBP        09116      -                09198   \n",
       " 9          NaN            EUR/JPY      1205050      -              1207750   \n",
       " 10         NaN            EUR/CHF        10629      -                10630   \n",
       " 11         NaN         Доллар США  Предложение  Спрос  Предыдущее закрытие   \n",
       " 12         NaN            USD/EUR        09126      -                09188   \n",
       " 13         NaN            USD/GBP        08317      -                08456   \n",
       " 14         NaN            USD/JPY      1099650      -              1109900   \n",
       " 15         NaN            USD/CHF        09699      -                09769   \n",
       " 16         NaN      Японская иена  Предложение  Спрос  Предыдущее закрытие   \n",
       " 17         NaN    JPY/EUR (100:1)        08300      -                08300   \n",
       " 18         NaN            JPY/GBP        00076      -                00076   \n",
       " 19         NaN            JPY/USD        00091      -                00090   \n",
       " 20         NaN    JPY/CHF (100:1)        08800      -                08800   \n",
       " 21         NaN    Фунт стерлингов  Предложение  Спрос  Предыдущее закрытие   \n",
       " 22         NaN            GBP/USD        12021      -                11825   \n",
       " 23         NaN            GBP/JPY      1321834      -              1312580   \n",
       " 24         NaN            GBP/EUR        10971      -                10870   \n",
       " 25         NaN            GBP/CHF        11659      -                11557   \n",
       " 26         NaN  Швейцарский франк  Предложение  Спрос  Предыдущее закрытие   \n",
       " 27         NaN            GBP/CHF        11659      -                11557   \n",
       " 28         NaN            EUR/CHF        10629      -                10630   \n",
       " 29         NaN    JPY/CHF (100:1)        08800      -                08800   \n",
       " 30         NaN            USD/CHF        09699      -                09769   \n",
       " 31         NaN  Украинская гривна  Предложение  Спрос  Предыдущее закрытие   \n",
       " 32         NaN            EUR/UAH       309941      -               304252   \n",
       " 33         NaN            USD/UAH       282702      -               279553   \n",
       " 34         NaN            CHF/UAH       291506      -               286223   \n",
       " 35         NaN            GBP/UAH       339921      -               330600   \n",
       " \n",
       "           %  Абсолютное значение     Время  \n",
       " 0    0,10 %                00923  17:44:00  \n",
       " 1   -0,58 %               -04980  17:44:00  \n",
       " 2   -1,44 %               -11267  17:44:00  \n",
       " 3   -0,60 %               -00043  17:44:00  \n",
       " 4   -0,90 %               -00998  17:44:00  \n",
       " 5   -0,79 %               -06343  17:44:00  \n",
       " 6         %  Абсолютное значение     Время  \n",
       " 7    0,73 %                00080  17:44:00  \n",
       " 8   -0,89 %               -00081  17:44:00  \n",
       " 9   -0,22 %               -02700  17:44:00  \n",
       " 10   0,00 %               -00001  17:44:00  \n",
       " 11        %  Абсолютное значение     Время  \n",
       " 12  -0,68 %               -00062  17:44:00  \n",
       " 13  -1,64 %               -00139  17:44:00  \n",
       " 14  -0,92 %               -10250  17:44:00  \n",
       " 15  -0,72 %               -00071  17:44:00  \n",
       " 16        %  Абсолютное значение     Время  \n",
       " 17   0,23 %                00000  17:44:00  \n",
       " 18  -0,70 %               -00001  17:44:00  \n",
       " 19   0,96 %                00001  17:44:00  \n",
       " 20   0,17 %                00000  17:44:00  \n",
       " 21        %  Абсолютное значение     Время  \n",
       " 22   1,65 %                00196  17:44:00  \n",
       " 23   0,71 %                09255  17:44:00  \n",
       " 24   0,92 %                00101  17:44:00  \n",
       " 25   0,88 %                00102  17:44:00  \n",
       " 26        %  Абсолютное значение     Время  \n",
       " 27   0,88 %                00102  17:44:00  \n",
       " 28   0,00 %               -00001  17:44:00  \n",
       " 29   0,17 %                00000  17:44:00  \n",
       " 30  -0,72 %               -00071  17:44:00  \n",
       " 31        %  Абсолютное значение     Время  \n",
       " 32   1,87 %                05689  17:44:00  \n",
       " 33   1,13 %                03149  17:43:00  \n",
       " 34   1,85 %                05284  17:44:00  \n",
       " 35   2,82 %                09322  17:44:00  ]"
      ]
     },
     "execution_count": 31,
     "metadata": {},
     "output_type": "execute_result"
    }
   ],
   "source": [
    "df = pd.read_html('https://www.finanz.ru/valyuty/v-realnom-vremeni', attrs={'class': 'quote_list'}, encoding='utf-8')\n",
    "df"
   ]
  },
  {
   "cell_type": "code",
   "execution_count": 32,
   "metadata": {},
   "outputs": [
    {
     "data": {
      "text/plain": [
       "[              Country,Other  TotalCases NewCases  TotalDeaths  NewDeaths  \\\n",
       " 0                     China       81285      +67       3287.0        6.0   \n",
       " 1                     Italy       74386      NaN       7503.0        NaN   \n",
       " 2                       USA       68905     +694       1037.0       10.0   \n",
       " 3                     Spain       56188   +6,673       4089.0      442.0   \n",
       " 4                   Germany       40585   +3,262        229.0       23.0   \n",
       " ..                      ...         ...      ...          ...        ...   \n",
       " 195        Papua New Guinea           1      NaN          NaN        NaN   \n",
       " 196  St. Vincent Grenadines           1      NaN          NaN        NaN   \n",
       " 197             Timor-Leste           1      NaN          NaN        NaN   \n",
       " 198        Turks and Caicos           1      NaN          NaN        NaN   \n",
       " 199                  Total:      492250    21282      22180.0      902.0   \n",
       " \n",
       "      TotalRecovered  ActiveCases  Serious,Critical  Tot Cases/1M pop  \\\n",
       " 0           74051.0         3947            1235.0              56.0   \n",
       " 1            9362.0        57521            3489.0            1230.0   \n",
       " 2             428.0        67440            1455.0             208.0   \n",
       " 3            7015.0        45084            3166.0            1202.0   \n",
       " 4            5669.0        34687              23.0             484.0   \n",
       " ..              ...          ...               ...               ...   \n",
       " 195             NaN            1               NaN               0.1   \n",
       " 196             NaN            1               NaN               9.0   \n",
       " 197             NaN            1               NaN               0.8   \n",
       " 198             NaN            1               NaN              26.0   \n",
       " 199        119732.0       350338           17769.0              63.2   \n",
       " \n",
       "      Tot Deaths/1M pop  \n",
       " 0                  2.0  \n",
       " 1                124.0  \n",
       " 2                  3.0  \n",
       " 3                 87.0  \n",
       " 4                  3.0  \n",
       " ..                 ...  \n",
       " 195                NaN  \n",
       " 196                NaN  \n",
       " 197                NaN  \n",
       " 198                NaN  \n",
       " 199                2.8  \n",
       " \n",
       " [200 rows x 10 columns],\n",
       "               Country,Other  TotalCases NewCases  TotalDeaths  NewDeaths  \\\n",
       " 0                     China       81218      +47       3281.0        4.0   \n",
       " 1                     Italy       74386   +5,210       7503.0      683.0   \n",
       " 2                       USA       68211  +13,355       1027.0      247.0   \n",
       " 3                     Spain       49515   +7,457       3647.0      656.0   \n",
       " 4                   Germany       37323   +4,332        206.0       47.0   \n",
       " ..                      ...         ...      ...          ...        ...   \n",
       " 195  St. Vincent Grenadines           1      NaN          NaN        NaN   \n",
       " 196                 Somalia           1      NaN          NaN        NaN   \n",
       " 197             Timor-Leste           1      NaN          NaN        NaN   \n",
       " 198        Turks and Caicos           1      NaN          NaN        NaN   \n",
       " 199                  Total:      470968    48441      21278.0     2388.0   \n",
       " \n",
       "      TotalRecovered  ActiveCases  Serious,Critical  Tot Cases/1M pop  \\\n",
       " 0           73650.0         4287            1399.0             56.00   \n",
       " 1            9362.0        57521            3489.0           1230.00   \n",
       " 2             394.0        66790            1452.0            206.00   \n",
       " 3            5367.0        40501            3166.0           1059.00   \n",
       " 4            3547.0        33570              23.0            445.00   \n",
       " ..              ...          ...               ...               ...   \n",
       " 195             NaN            1               NaN              9.00   \n",
       " 196             NaN            1               NaN              0.06   \n",
       " 197             NaN            1               NaN              0.80   \n",
       " 198             NaN            1               NaN             26.00   \n",
       " 199        113827.0       335863           14956.0             60.40   \n",
       " \n",
       "      Tot Deaths/1M pop  \n",
       " 0                  2.0  \n",
       " 1                124.0  \n",
       " 2                  3.0  \n",
       " 3                 78.0  \n",
       " 4                  2.0  \n",
       " ..                 ...  \n",
       " 195                NaN  \n",
       " 196                NaN  \n",
       " 197                NaN  \n",
       " 198                NaN  \n",
       " 199                2.7  \n",
       " \n",
       " [200 rows x 10 columns]]"
      ]
     },
     "execution_count": 32,
     "metadata": {},
     "output_type": "execute_result"
    }
   ],
   "source": [
    "df_corona = pd.read_html('https://www.worldometers.info/coronavirus/', attrs={'class':'table table-bordered table-hover main_table_countries'}, encoding='utf-8')\n",
    "df_corona[:10]"
   ]
  },
  {
   "cell_type": "code",
   "execution_count": null,
   "metadata": {},
   "outputs": [],
   "source": []
  }
 ],
 "metadata": {
  "kernelspec": {
   "display_name": "Python 3",
   "language": "python",
   "name": "python3"
  },
  "language_info": {
   "codemirror_mode": {
    "name": "ipython",
    "version": 3
   },
   "file_extension": ".py",
   "mimetype": "text/x-python",
   "name": "python",
   "nbconvert_exporter": "python",
   "pygments_lexer": "ipython3",
   "version": "3.7.4"
  }
 },
 "nbformat": 4,
 "nbformat_minor": 2
}
