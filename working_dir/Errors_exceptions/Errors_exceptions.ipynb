{
 "cells": [
  {
   "cell_type": "markdown",
   "metadata": {},
   "source": [
    "# Домашнее задание\n",
    "**Задание 1**\n",
    "Напишите функцию date_range, которая возвращает список дней между датами start_date и end_date. Даты должны вводиться в формате YYYY-MM-DD."
   ]
  },
  {
   "cell_type": "code",
   "execution_count": 7,
   "metadata": {},
   "outputs": [],
   "source": [
    "from datetime import datetime"
   ]
  },
  {
   "cell_type": "code",
   "execution_count": 8,
   "metadata": {},
   "outputs": [],
   "source": [
    "from datetime import timedelta"
   ]
  },
  {
   "cell_type": "code",
   "execution_count": 20,
   "metadata": {},
   "outputs": [
    {
     "name": "stdout",
     "output_type": "stream",
     "text": [
      "Введите start_date YYYY-MM-DD: 2020-01-01\n",
      "Введите end_date YYYY-MM-DD: 2020-01-10\n"
     ]
    },
    {
     "data": {
      "text/plain": [
       "['2020-01-02',\n",
       " '2020-01-03',\n",
       " '2020-01-04',\n",
       " '2020-01-05',\n",
       " '2020-01-06',\n",
       " '2020-01-07',\n",
       " '2020-01-08',\n",
       " '2020-01-09',\n",
       " '2020-01-10',\n",
       " '2020-01-11']"
      ]
     },
     "execution_count": 20,
     "metadata": {},
     "output_type": "execute_result"
    }
   ],
   "source": [
    "start_date = input('Введите start_date YYYY-MM-DD: ')\n",
    "end_date = input('Введите end_date YYYY-MM-DD: ')\n",
    "\n",
    "def date_range(start_date, end_date):\n",
    "    \n",
    "    start_date_dt = datetime.strptime(start_date, '%Y-%m-%d')\n",
    "    end_date_dt = datetime.strptime(end_date, '%Y-%m-%d')\n",
    "    \n",
    "    list_date = []\n",
    "    \n",
    "    while start_date_dt <= end_date_dt:\n",
    "#         print(start_date_dt.strftime('%Y-%m-%d'))\n",
    "        start_date_dt += timedelta(days=1)\n",
    "        list_date.append(start_date_dt.strftime('%Y-%m-%d'))\n",
    "        \n",
    "    return list_date\n",
    "\n",
    "date_range(start_date, end_date)"
   ]
  },
  {
   "cell_type": "markdown",
   "metadata": {},
   "source": [
    "**Задание 2**\n",
    "Дополните функцию из первого задания проверкой на корректность дат. В случае неверного формата или если start_date > end_date должен возвращаться пустой список."
   ]
  },
  {
   "cell_type": "code",
   "execution_count": 19,
   "metadata": {},
   "outputs": [
    {
     "name": "stdout",
     "output_type": "stream",
     "text": [
      "Введите start_date YYYY-MM-DD: 2020-01-01\n",
      "Введите end_date YYYY-MM-DD: 2020-01-10\n"
     ]
    },
    {
     "data": {
      "text/plain": [
       "['2020-01-02',\n",
       " '2020-01-03',\n",
       " '2020-01-04',\n",
       " '2020-01-05',\n",
       " '2020-01-06',\n",
       " '2020-01-07',\n",
       " '2020-01-08',\n",
       " '2020-01-09',\n",
       " '2020-01-10',\n",
       " '2020-01-11']"
      ]
     },
     "execution_count": 19,
     "metadata": {},
     "output_type": "execute_result"
    }
   ],
   "source": [
    "start_date = input('Введите start_date YYYY-MM-DD: ')\n",
    "end_date = input('Введите end_date YYYY-MM-DD: ')\n",
    "\n",
    "def check(data):\n",
    "    try:\n",
    "        return datetime.strptime(data,'%Y-%m-%d')  \n",
    "    except ValueError:\n",
    "        return 'Некорретный формат даты!'   \n",
    "\n",
    "def date_range(start_date, end_date):\n",
    "    \n",
    "    list_date = []\n",
    "    \n",
    "    try:\n",
    "        if check(start_date) == 'Некорретный формат даты!':\n",
    "            print(f'Ошибка: Некорретный формат у \"{start_date}\"')\n",
    "        elif check(end_date) == 'Некорретный формат даты!':\n",
    "            print(f'Ошибка: Некорретный формат у \"{end_date}\"')\n",
    "        else:\n",
    "            start_date_dt = datetime.strptime(start_date, '%Y-%m-%d')\n",
    "            end_date_dt = datetime.strptime(end_date, '%Y-%m-%d')\n",
    "    \n",
    "            if start_date_dt > end_date_dt:\n",
    "                return f'Ошибка:\"{start_date}\" больше \"{end_date}\"'\n",
    "    \n",
    "            while start_date_dt <= end_date_dt:\n",
    "#                 print(start_date_dt.strftime('%Y-%m-%d'))\n",
    "                start_date_dt += timedelta(days=1)\n",
    "                list_date.append(start_date_dt.strftime('%Y-%m-%d'))    \n",
    "    except:\n",
    "        pass\n",
    "    \n",
    "    return list_date\n",
    "        \n",
    "date_range(start_date, end_date)"
   ]
  },
  {
   "cell_type": "markdown",
   "metadata": {},
   "source": [
    "**Задание 3**\n",
    "Дан поток дат в формате YYYY-MM-DD, в которых встречаются некорректные значения:\n",
    "\n",
    "stream = [‘2018-04-02’, ‘2018-02-29’, ‘2018-19-02’]\n",
    "\n",
    "Напишите функцию, которая проверяет эти даты на корректность. Т. е. для каждой даты возвращает True (дата корректна) или False (некорректная дата)."
   ]
  },
  {
   "cell_type": "code",
   "execution_count": 4,
   "metadata": {},
   "outputs": [],
   "source": [
    "stream = ['2018-04-02', '2018-02-29', '2018-19-02']"
   ]
  },
  {
   "cell_type": "code",
   "execution_count": 28,
   "metadata": {},
   "outputs": [
    {
     "data": {
      "text/plain": [
       "[True, False, False]"
      ]
     },
     "execution_count": 28,
     "metadata": {},
     "output_type": "execute_result"
    }
   ],
   "source": [
    "stream_list = []\n",
    "for data in stream:\n",
    "    if type(data) == 'datetime.datetime':\n",
    "        stream_list.append(data.strftime('%Y-%m-%d'))\n",
    "    else:\n",
    "        stream_list.append(data)\n",
    "\n",
    "from datetime import datetime\n",
    "\n",
    "def validate(date_text):\n",
    "    try:\n",
    "        if date_text != datetime.strptime(date_text, \"%Y-%m-%d\").strftime('%Y-%m-%d'):\n",
    "            raise ValueError\n",
    "        return True\n",
    "    except ValueError:\n",
    "        return False\n",
    "    \n",
    "list(map(validate, stream_str))"
   ]
  },
  {
   "cell_type": "markdown",
   "metadata": {},
   "source": [
    "**Задание 4 (бонусное)**\n",
    "\n",
    "Ваш коллега прислал код функции:\n",
    "\n",
    "DEFAULT_USER_COUNT = 3\n",
    "\n",
    "def delete_and_return_last_user(region, default_list=[‘A100’, ‘A101’, ‘A102’]):\n",
    "\"\"“\n",
    "Удаляет из списка default_list последнего пользователя\n",
    "и возвращает ID нового последнего пользователя.\n",
    "”\"\"\n",
    "element_to_delete = default_list[-1]\n",
    "default_list.remove(element_to_delete)\n",
    "\n",
    "return default_list[DEFAULT_USER_COUNT-2]\n",
    "При однократном вызове этой функции все работает корректно:\n",
    "delete_and_return_last_user(1)\n",
    "‘A101’\n",
    "\n",
    "Однако, при повторном вызове получается ошибка IndexError: list index out of range.\n",
    "\n",
    "**Задание:**\n",
    "\n",
    "Что значит ошибка list index out of range?\n",
    "Почему при первом запуске функция работает корректно, а при втором - нет?"
   ]
  },
  {
   "cell_type": "markdown",
   "metadata": {},
   "source": [
    "**Ответ**\n",
    "Ошибка «List index out of range» возникает в Python, когда мы пытаемся получить доступ к неопределенному элементу из списка.\n",
    "В данном случае, после первого прохождения программы в нашем списке остались элементы с индексами (-2) и (-1)  - и когда программа пройдет второй раз она выдаст ошибку, потому что после отработки второй раз в итоговом списке остается только один элемент с индексом (-1), а по коду ей нужно вернуть элемент с индексом (1), которого не существует."
   ]
  }
 ],
 "metadata": {
  "kernelspec": {
   "display_name": "Python 3",
   "language": "python",
   "name": "python3"
  },
  "language_info": {
   "codemirror_mode": {
    "name": "ipython",
    "version": 3
   },
   "file_extension": ".py",
   "mimetype": "text/x-python",
   "name": "python",
   "nbconvert_exporter": "python",
   "pygments_lexer": "ipython3",
   "version": "3.7.4"
  }
 },
 "nbformat": 4,
 "nbformat_minor": 2
}
